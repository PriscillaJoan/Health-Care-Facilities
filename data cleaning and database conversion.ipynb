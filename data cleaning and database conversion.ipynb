{
 "cells": [
  {
   "cell_type": "markdown",
   "metadata": {},
   "source": [
    "The purpose of this analysis is to come up with healthcare solutions specific for the county of Nairobi  that align with Sustainable Development Goal (SDG) 3 for Universal Health.\n",
    "\n",
    "Sustainable Development Goal 3, regarding \"Good Health and Well-being\", is one of the 17 Sustainable Development Goals established by the United Nations in 2015. It aims to ensure healthy lives and promote well-being for all, at all ages.\n",
    "\n",
    "#### **Data Set**\n",
    "- The data used for this analysis is population data from https://africaopendata.org/dataset/2019-kenya-population-and-housing-census\n",
    "and data containing information on health facilities across the country from https://africaopendata.org/dataset/health-facilities-in-kenya\n",
    "\n",
    "#### **Meaning of columns**\n",
    "\n",
    "- (HCT) A hematocrit test is a simple blood test that measures the percentage of red blood cells in your blood.\n",
    "\n",
    "- (ART) is an abbreviation for antiretroviral therapy, which is a medical treatment for people infected with HIV.\n",
    "    \n",
    "- (C-IMCI) stands for Community-based Integrated Management of Childhood Illnesses, that focuses on the health and well-being of the child. CIMCI aims to reduce preventable mortality, minimize illness and disability and promote healthy growth and development of children under five years of age.\n",
    "\n",
    "- (FP) Family Practitioner gives personal, primary, and continuing care to individuals irrespective of age, sex, or illness\n",
    "\n",
    "- (IPD) is an abbreviation for In-patient department, which is a medical facility within a hospital or healthcare center where individuals are admitted for medical treatment or surgery to manage complex medical conditions, diseases, or illnesses.\n",
    "    \n",
    "\n",
    "\n"
   ]
  },
  {
   "cell_type": "code",
   "execution_count": 2,
   "metadata": {},
   "outputs": [],
   "source": [
    "import pandas as pd\n",
    "import numpy as np"
   ]
  },
  {
   "cell_type": "code",
   "execution_count": 3,
   "metadata": {},
   "outputs": [
    {
     "name": "stdout",
     "output_type": "stream",
     "text": [
      "WARNING *** OLE2 inconsistency: SSCS size is 0 but SSAT size is non-zero\n"
     ]
    },
    {
     "data": {
      "text/html": [
       "<div>\n",
       "<style scoped>\n",
       "    .dataframe tbody tr th:only-of-type {\n",
       "        vertical-align: middle;\n",
       "    }\n",
       "\n",
       "    .dataframe tbody tr th {\n",
       "        vertical-align: top;\n",
       "    }\n",
       "\n",
       "    .dataframe thead th {\n",
       "        text-align: right;\n",
       "    }\n",
       "</style>\n",
       "<table border=\"1\" class=\"dataframe\">\n",
       "  <thead>\n",
       "    <tr style=\"text-align: right;\">\n",
       "      <th></th>\n",
       "      <th>Facility Code</th>\n",
       "      <th>Facility Name</th>\n",
       "      <th>Province</th>\n",
       "      <th>County</th>\n",
       "      <th>District</th>\n",
       "      <th>Division</th>\n",
       "      <th>Type</th>\n",
       "      <th>Owner</th>\n",
       "      <th>Location</th>\n",
       "      <th>Sub Location</th>\n",
       "      <th>...</th>\n",
       "      <th>IPD</th>\n",
       "      <th>OPD</th>\n",
       "      <th>OUTREACH</th>\n",
       "      <th>PMTCT</th>\n",
       "      <th>RAD/XRAY</th>\n",
       "      <th>RHTC/RHDC</th>\n",
       "      <th>TB DIAG</th>\n",
       "      <th>TB LABS</th>\n",
       "      <th>TB TREAT</th>\n",
       "      <th>YOUTH</th>\n",
       "    </tr>\n",
       "  </thead>\n",
       "  <tbody>\n",
       "    <tr>\n",
       "      <th>0</th>\n",
       "      <td>19224</td>\n",
       "      <td>CDF Kiriari Dispensary</td>\n",
       "      <td>Eastern</td>\n",
       "      <td>Embu</td>\n",
       "      <td>Manyatta</td>\n",
       "      <td>Manyatta</td>\n",
       "      <td>Dispensary</td>\n",
       "      <td>Ministry of Health</td>\n",
       "      <td>Ruguru</td>\n",
       "      <td>Ruguru</td>\n",
       "      <td>...</td>\n",
       "      <td>NaN</td>\n",
       "      <td>NaN</td>\n",
       "      <td>NaN</td>\n",
       "      <td>NaN</td>\n",
       "      <td>NaN</td>\n",
       "      <td>NaN</td>\n",
       "      <td>NaN</td>\n",
       "      <td>NaN</td>\n",
       "      <td>NaN</td>\n",
       "      <td>NaN</td>\n",
       "    </tr>\n",
       "    <tr>\n",
       "      <th>1</th>\n",
       "      <td>19310</td>\n",
       "      <td>St Jude's Huruma Community Health Services</td>\n",
       "      <td>Nairobi</td>\n",
       "      <td>Nairobi</td>\n",
       "      <td>Mathare</td>\n",
       "      <td>Huruma</td>\n",
       "      <td>Medical Clinic</td>\n",
       "      <td>Private Practice - Unspecified</td>\n",
       "      <td>Huruma</td>\n",
       "      <td>Huruma</td>\n",
       "      <td>...</td>\n",
       "      <td>NaN</td>\n",
       "      <td>NaN</td>\n",
       "      <td>NaN</td>\n",
       "      <td>NaN</td>\n",
       "      <td>NaN</td>\n",
       "      <td>NaN</td>\n",
       "      <td>NaN</td>\n",
       "      <td>NaN</td>\n",
       "      <td>NaN</td>\n",
       "      <td>NaN</td>\n",
       "    </tr>\n",
       "    <tr>\n",
       "      <th>2</th>\n",
       "      <td>14180</td>\n",
       "      <td>10 Engineer VCT</td>\n",
       "      <td>Rift Valley</td>\n",
       "      <td>Laikipia</td>\n",
       "      <td>Laikipia East</td>\n",
       "      <td>Central</td>\n",
       "      <td>Dispensary</td>\n",
       "      <td>Armed Forces</td>\n",
       "      <td>Nanyuki</td>\n",
       "      <td>Majengo</td>\n",
       "      <td>...</td>\n",
       "      <td>NaN</td>\n",
       "      <td>NaN</td>\n",
       "      <td>NaN</td>\n",
       "      <td>NaN</td>\n",
       "      <td>NaN</td>\n",
       "      <td>NaN</td>\n",
       "      <td>NaN</td>\n",
       "      <td>NaN</td>\n",
       "      <td>NaN</td>\n",
       "      <td>NaN</td>\n",
       "    </tr>\n",
       "    <tr>\n",
       "      <th>3</th>\n",
       "      <td>17486</td>\n",
       "      <td>12 Engineers</td>\n",
       "      <td>Central</td>\n",
       "      <td>Kiambu</td>\n",
       "      <td>Thika West</td>\n",
       "      <td>NaN</td>\n",
       "      <td>Dispensary</td>\n",
       "      <td>Ministry of Health</td>\n",
       "      <td>NaN</td>\n",
       "      <td>NaN</td>\n",
       "      <td>...</td>\n",
       "      <td>NaN</td>\n",
       "      <td>NaN</td>\n",
       "      <td>NaN</td>\n",
       "      <td>NaN</td>\n",
       "      <td>NaN</td>\n",
       "      <td>NaN</td>\n",
       "      <td>NaN</td>\n",
       "      <td>NaN</td>\n",
       "      <td>NaN</td>\n",
       "      <td>NaN</td>\n",
       "    </tr>\n",
       "    <tr>\n",
       "      <th>4</th>\n",
       "      <td>18393</td>\n",
       "      <td>3Kl Maternity &amp; Nursing Home</td>\n",
       "      <td>Rift Valley</td>\n",
       "      <td>Kajiado</td>\n",
       "      <td>Kajiado North</td>\n",
       "      <td>Ongata Rongai</td>\n",
       "      <td>Nursing Home</td>\n",
       "      <td>Private Practice - Clinical Officer</td>\n",
       "      <td>Gataka</td>\n",
       "      <td>Gataka</td>\n",
       "      <td>...</td>\n",
       "      <td>NaN</td>\n",
       "      <td>NaN</td>\n",
       "      <td>NaN</td>\n",
       "      <td>NaN</td>\n",
       "      <td>NaN</td>\n",
       "      <td>NaN</td>\n",
       "      <td>NaN</td>\n",
       "      <td>NaN</td>\n",
       "      <td>NaN</td>\n",
       "      <td>NaN</td>\n",
       "    </tr>\n",
       "  </tbody>\n",
       "</table>\n",
       "<p>5 rows × 50 columns</p>\n",
       "</div>"
      ],
      "text/plain": [
       "   Facility Code                                Facility Name     Province  \\\n",
       "0          19224                       CDF Kiriari Dispensary      Eastern   \n",
       "1          19310   St Jude's Huruma Community Health Services      Nairobi   \n",
       "2          14180                              10 Engineer VCT  Rift Valley   \n",
       "3          17486                                 12 Engineers      Central   \n",
       "4          18393                 3Kl Maternity & Nursing Home  Rift Valley   \n",
       "\n",
       "     County       District       Division            Type  \\\n",
       "0      Embu       Manyatta       Manyatta      Dispensary   \n",
       "1   Nairobi        Mathare         Huruma  Medical Clinic   \n",
       "2  Laikipia  Laikipia East        Central      Dispensary   \n",
       "3    Kiambu     Thika West            NaN      Dispensary   \n",
       "4   Kajiado  Kajiado North  Ongata Rongai    Nursing Home   \n",
       "\n",
       "                                 Owner Location Sub Location  ...  IPD OPD  \\\n",
       "0                   Ministry of Health   Ruguru       Ruguru  ...  NaN NaN   \n",
       "1       Private Practice - Unspecified   Huruma       Huruma  ...  NaN NaN   \n",
       "2                         Armed Forces  Nanyuki      Majengo  ...  NaN NaN   \n",
       "3                   Ministry of Health      NaN          NaN  ...  NaN NaN   \n",
       "4  Private Practice - Clinical Officer   Gataka       Gataka  ...  NaN NaN   \n",
       "\n",
       "  OUTREACH  PMTCT  RAD/XRAY RHTC/RHDC TB DIAG TB LABS TB TREAT YOUTH  \n",
       "0      NaN    NaN       NaN       NaN     NaN     NaN      NaN   NaN  \n",
       "1      NaN    NaN       NaN       NaN     NaN     NaN      NaN   NaN  \n",
       "2      NaN    NaN       NaN       NaN     NaN     NaN      NaN   NaN  \n",
       "3      NaN    NaN       NaN       NaN     NaN     NaN      NaN   NaN  \n",
       "4      NaN    NaN       NaN       NaN     NaN     NaN      NaN   NaN  \n",
       "\n",
       "[5 rows x 50 columns]"
      ]
     },
     "execution_count": 3,
     "metadata": {},
     "output_type": "execute_result"
    }
   ],
   "source": [
    "#load the dataset\n",
    "data= pd.read_excel('ehealth-kenya.xls')\n",
    "data.head()"
   ]
  },
  {
   "cell_type": "code",
   "execution_count": 4,
   "metadata": {},
   "outputs": [
    {
     "data": {
      "text/html": [
       "<div>\n",
       "<style scoped>\n",
       "    .dataframe tbody tr th:only-of-type {\n",
       "        vertical-align: middle;\n",
       "    }\n",
       "\n",
       "    .dataframe tbody tr th {\n",
       "        vertical-align: top;\n",
       "    }\n",
       "\n",
       "    .dataframe thead th {\n",
       "        text-align: right;\n",
       "    }\n",
       "</style>\n",
       "<table border=\"1\" class=\"dataframe\">\n",
       "  <thead>\n",
       "    <tr style=\"text-align: right;\">\n",
       "      <th></th>\n",
       "      <th>Facility Code</th>\n",
       "      <th>Facility Name</th>\n",
       "      <th>Province</th>\n",
       "      <th>County</th>\n",
       "      <th>District</th>\n",
       "      <th>Division</th>\n",
       "      <th>Type</th>\n",
       "      <th>Owner</th>\n",
       "      <th>Location</th>\n",
       "      <th>Sub Location</th>\n",
       "      <th>...</th>\n",
       "      <th>IPD</th>\n",
       "      <th>OPD</th>\n",
       "      <th>OUTREACH</th>\n",
       "      <th>PMTCT</th>\n",
       "      <th>RAD/XRAY</th>\n",
       "      <th>RHTC/RHDC</th>\n",
       "      <th>TB DIAG</th>\n",
       "      <th>TB LABS</th>\n",
       "      <th>TB TREAT</th>\n",
       "      <th>YOUTH</th>\n",
       "    </tr>\n",
       "  </thead>\n",
       "  <tbody>\n",
       "    <tr>\n",
       "      <th>7778</th>\n",
       "      <td>13127</td>\n",
       "      <td>Nsis Health Centre (Ruaraka)</td>\n",
       "      <td>Nairobi</td>\n",
       "      <td>Nairobi</td>\n",
       "      <td>Ruaraka</td>\n",
       "      <td>Kasarani</td>\n",
       "      <td>Health Centre</td>\n",
       "      <td>Ministry of Health</td>\n",
       "      <td>Ruaraka</td>\n",
       "      <td>NaN</td>\n",
       "      <td>...</td>\n",
       "      <td>Y</td>\n",
       "      <td>NaN</td>\n",
       "      <td>NaN</td>\n",
       "      <td>NaN</td>\n",
       "      <td>NaN</td>\n",
       "      <td>NaN</td>\n",
       "      <td>NaN</td>\n",
       "      <td>NaN</td>\n",
       "      <td>NaN</td>\n",
       "      <td>NaN</td>\n",
       "    </tr>\n",
       "    <tr>\n",
       "      <th>8781</th>\n",
       "      <td>17938</td>\n",
       "      <td>Round About Medical Centre</td>\n",
       "      <td>Nairobi</td>\n",
       "      <td>Nairobi</td>\n",
       "      <td>Roysambu</td>\n",
       "      <td>Kasarani</td>\n",
       "      <td>Health Centre</td>\n",
       "      <td>Private Enterprise (Institution)</td>\n",
       "      <td>Githurai</td>\n",
       "      <td>Githurai</td>\n",
       "      <td>...</td>\n",
       "      <td>NaN</td>\n",
       "      <td>NaN</td>\n",
       "      <td>NaN</td>\n",
       "      <td>NaN</td>\n",
       "      <td>NaN</td>\n",
       "      <td>NaN</td>\n",
       "      <td>NaN</td>\n",
       "      <td>NaN</td>\n",
       "      <td>NaN</td>\n",
       "      <td>NaN</td>\n",
       "    </tr>\n",
       "    <tr>\n",
       "      <th>5416</th>\n",
       "      <td>19995</td>\n",
       "      <td>Evesben Foundation Medical Clinic</td>\n",
       "      <td>Nairobi</td>\n",
       "      <td>Nairobi</td>\n",
       "      <td>Kibra</td>\n",
       "      <td>Kibra</td>\n",
       "      <td>Medical Clinic</td>\n",
       "      <td>Private Practice - Clinical Officer</td>\n",
       "      <td>Laini Saba</td>\n",
       "      <td>Laini Saba</td>\n",
       "      <td>...</td>\n",
       "      <td>NaN</td>\n",
       "      <td>NaN</td>\n",
       "      <td>NaN</td>\n",
       "      <td>NaN</td>\n",
       "      <td>NaN</td>\n",
       "      <td>NaN</td>\n",
       "      <td>NaN</td>\n",
       "      <td>NaN</td>\n",
       "      <td>NaN</td>\n",
       "      <td>NaN</td>\n",
       "    </tr>\n",
       "    <tr>\n",
       "      <th>5636</th>\n",
       "      <td>17949</td>\n",
       "      <td>Destiny Medical Centre (Ruaraka)</td>\n",
       "      <td>Nairobi</td>\n",
       "      <td>Nairobi</td>\n",
       "      <td>Ruaraka</td>\n",
       "      <td>Kasarani</td>\n",
       "      <td>Dispensary</td>\n",
       "      <td>Private Practice - Unspecified</td>\n",
       "      <td>Kasarani</td>\n",
       "      <td>Kasarani</td>\n",
       "      <td>...</td>\n",
       "      <td>NaN</td>\n",
       "      <td>NaN</td>\n",
       "      <td>NaN</td>\n",
       "      <td>NaN</td>\n",
       "      <td>NaN</td>\n",
       "      <td>NaN</td>\n",
       "      <td>NaN</td>\n",
       "      <td>NaN</td>\n",
       "      <td>NaN</td>\n",
       "      <td>NaN</td>\n",
       "    </tr>\n",
       "    <tr>\n",
       "      <th>8525</th>\n",
       "      <td>19447</td>\n",
       "      <td>Provide International Hospital Mukuru</td>\n",
       "      <td>Nairobi</td>\n",
       "      <td>Nairobi</td>\n",
       "      <td>Embakasi South</td>\n",
       "      <td>NaN</td>\n",
       "      <td>Health Centre</td>\n",
       "      <td>Non-Governmental Organizations</td>\n",
       "      <td>mukuru</td>\n",
       "      <td>NaN</td>\n",
       "      <td>...</td>\n",
       "      <td>NaN</td>\n",
       "      <td>NaN</td>\n",
       "      <td>NaN</td>\n",
       "      <td>NaN</td>\n",
       "      <td>NaN</td>\n",
       "      <td>NaN</td>\n",
       "      <td>NaN</td>\n",
       "      <td>NaN</td>\n",
       "      <td>NaN</td>\n",
       "      <td>NaN</td>\n",
       "    </tr>\n",
       "  </tbody>\n",
       "</table>\n",
       "<p>5 rows × 50 columns</p>\n",
       "</div>"
      ],
      "text/plain": [
       "      Facility Code                          Facility Name Province   County  \\\n",
       "7778          13127           Nsis Health Centre (Ruaraka)  Nairobi  Nairobi   \n",
       "8781          17938             Round About Medical Centre  Nairobi  Nairobi   \n",
       "5416          19995      Evesben Foundation Medical Clinic  Nairobi  Nairobi   \n",
       "5636          17949       Destiny Medical Centre (Ruaraka)  Nairobi  Nairobi   \n",
       "8525          19447  Provide International Hospital Mukuru  Nairobi  Nairobi   \n",
       "\n",
       "            District  Division            Type  \\\n",
       "7778         Ruaraka  Kasarani   Health Centre   \n",
       "8781        Roysambu  Kasarani   Health Centre   \n",
       "5416           Kibra     Kibra  Medical Clinic   \n",
       "5636         Ruaraka  Kasarani      Dispensary   \n",
       "8525  Embakasi South       NaN   Health Centre   \n",
       "\n",
       "                                    Owner    Location Sub Location  ...  IPD  \\\n",
       "7778                   Ministry of Health     Ruaraka          NaN  ...    Y   \n",
       "8781     Private Enterprise (Institution)    Githurai     Githurai  ...  NaN   \n",
       "5416  Private Practice - Clinical Officer  Laini Saba   Laini Saba  ...  NaN   \n",
       "5636       Private Practice - Unspecified    Kasarani     Kasarani  ...  NaN   \n",
       "8525       Non-Governmental Organizations      mukuru          NaN  ...  NaN   \n",
       "\n",
       "     OPD OUTREACH  PMTCT  RAD/XRAY RHTC/RHDC TB DIAG TB LABS TB TREAT YOUTH  \n",
       "7778 NaN      NaN    NaN       NaN       NaN     NaN     NaN      NaN   NaN  \n",
       "8781 NaN      NaN    NaN       NaN       NaN     NaN     NaN      NaN   NaN  \n",
       "5416 NaN      NaN    NaN       NaN       NaN     NaN     NaN      NaN   NaN  \n",
       "5636 NaN      NaN    NaN       NaN       NaN     NaN     NaN      NaN   NaN  \n",
       "8525 NaN      NaN    NaN       NaN       NaN     NaN     NaN      NaN   NaN  \n",
       "\n",
       "[5 rows x 50 columns]"
      ]
     },
     "execution_count": 4,
     "metadata": {},
     "output_type": "execute_result"
    }
   ],
   "source": [
    "\"\"\"Since our analysis is centered around Nairobi, we shall filter the data frame and create a new data frame with only hospitals in Nairobi\"\"\"\n",
    "df = data[data['Province'] == 'Nairobi']\n",
    "df.sample(5)"
   ]
  },
  {
   "cell_type": "code",
   "execution_count": 5,
   "metadata": {},
   "outputs": [
    {
     "name": "stdout",
     "output_type": "stream",
     "text": [
      "<class 'pandas.core.frame.DataFrame'>\n",
      "Index: 942 entries, 1 to 10496\n",
      "Data columns (total 50 columns):\n",
      " #   Column                   Non-Null Count  Dtype  \n",
      "---  ------                   --------------  -----  \n",
      " 0   Facility Code            942 non-null    int64  \n",
      " 1   Facility Name            942 non-null    object \n",
      " 2   Province                 942 non-null    object \n",
      " 3   County                   942 non-null    object \n",
      " 4   District                 942 non-null    object \n",
      " 5   Division                 914 non-null    object \n",
      " 6   Type                     942 non-null    object \n",
      " 7   Owner                    942 non-null    object \n",
      " 8   Location                 894 non-null    object \n",
      " 9   Sub Location             672 non-null    object \n",
      " 10  Description of Location  641 non-null    object \n",
      " 11  Constituency             942 non-null    object \n",
      " 12  Nearest Town             824 non-null    object \n",
      " 13  Beds                     942 non-null    float64\n",
      " 14  Cots                     942 non-null    float64\n",
      " 15  Official Landline        197 non-null    object \n",
      " 16  Official Fax             19 non-null     object \n",
      " 17  Official Mobile          305 non-null    object \n",
      " 18  Official Email           222 non-null    object \n",
      " 19  Official Address         412 non-null    object \n",
      " 20  Official Alternate No    157 non-null    float64\n",
      " 21  Town                     434 non-null    object \n",
      " 22  Post Code                397 non-null    object \n",
      " 23  In Charge                592 non-null    object \n",
      " 24  Job Title of in Charge   553 non-null    object \n",
      " 25  Open 24 Hours            931 non-null    object \n",
      " 26  Open Weekends            933 non-null    object \n",
      " 27  Operational Status       942 non-null    object \n",
      " 28  ANC                      0 non-null      float64\n",
      " 29  ART                      109 non-null    object \n",
      " 30  BEOC                     0 non-null      float64\n",
      " 31  BLOOD                    0 non-null      float64\n",
      " 32  CAES SEC                 0 non-null      float64\n",
      " 33  CEOC                     0 non-null      float64\n",
      " 34  C-IMCI                   72 non-null     object \n",
      " 35  EPI                      0 non-null      float64\n",
      " 36  FP                       280 non-null    object \n",
      " 37  GROWM                    0 non-null      float64\n",
      " 38  HBC                      250 non-null    object \n",
      " 39  HCT                      0 non-null      float64\n",
      " 40  IPD                      297 non-null    object \n",
      " 41  OPD                      0 non-null      float64\n",
      " 42  OUTREACH                 0 non-null      float64\n",
      " 43  PMTCT                    0 non-null      float64\n",
      " 44  RAD/XRAY                 0 non-null      float64\n",
      " 45  RHTC/RHDC                0 non-null      float64\n",
      " 46  TB DIAG                  0 non-null      float64\n",
      " 47  TB LABS                  0 non-null      float64\n",
      " 48  TB TREAT                 0 non-null      float64\n",
      " 49  YOUTH                    0 non-null      float64\n",
      "dtypes: float64(20), int64(1), object(29)\n",
      "memory usage: 375.3+ KB\n"
     ]
    }
   ],
   "source": [
    "\"\"\"From our observation the dataset has 942 rows and 50 columns. The datatypes present are int,object and float and there are \n",
    "quite a number of columns with missing values\"\"\"\n",
    "df.info()\n"
   ]
  },
  {
   "cell_type": "code",
   "execution_count": 6,
   "metadata": {},
   "outputs": [
    {
     "data": {
      "text/plain": [
       "YOUTH                      100.000000\n",
       "CEOC                       100.000000\n",
       "GROWM                      100.000000\n",
       "BEOC                       100.000000\n",
       "OPD                        100.000000\n",
       "OUTREACH                   100.000000\n",
       "BLOOD                      100.000000\n",
       "HCT                        100.000000\n",
       "CAES SEC                   100.000000\n",
       "PMTCT                      100.000000\n",
       "RAD/XRAY                   100.000000\n",
       "RHTC/RHDC                  100.000000\n",
       "EPI                        100.000000\n",
       "TB DIAG                    100.000000\n",
       "TB LABS                    100.000000\n",
       "TB TREAT                   100.000000\n",
       "ANC                        100.000000\n",
       "Official Fax                97.983015\n",
       "C-IMCI                      92.356688\n",
       "ART                         88.428875\n",
       "Official Alternate No       83.333333\n",
       "Official Landline           79.087049\n",
       "Official Email              76.433121\n",
       "HBC                         73.460722\n",
       "FP                          70.276008\n",
       "IPD                         68.471338\n",
       "Official Mobile             67.622081\n",
       "Post Code                   57.855626\n",
       "Official Address            56.263270\n",
       "Town                        53.927813\n",
       "Job Title of in Charge      41.295117\n",
       "In Charge                   37.154989\n",
       "Description of Location     31.953291\n",
       "Sub Location                28.662420\n",
       "Nearest Town                12.526539\n",
       "Location                     5.095541\n",
       "Division                     2.972399\n",
       "Open 24 Hours                1.167728\n",
       "Open Weekends                0.955414\n",
       "Operational Status           0.000000\n",
       "Facility Name                0.000000\n",
       "Cots                         0.000000\n",
       "Beds                         0.000000\n",
       "Constituency                 0.000000\n",
       "Owner                        0.000000\n",
       "Type                         0.000000\n",
       "District                     0.000000\n",
       "County                       0.000000\n",
       "Province                     0.000000\n",
       "Facility Code                0.000000\n",
       "dtype: float64"
      ]
     },
     "execution_count": 6,
     "metadata": {},
     "output_type": "execute_result"
    }
   ],
   "source": [
    "# check % of missing values on columns\n",
    "(df.isna().sum()/len(df) * 100).sort_values(ascending = False)"
   ]
  },
  {
   "cell_type": "code",
   "execution_count": 7,
   "metadata": {},
   "outputs": [
    {
     "data": {
      "text/plain": [
       "<Axes: >"
      ]
     },
     "execution_count": 7,
     "metadata": {},
     "output_type": "execute_result"
    },
    {
     "data": {
      "image/png": "[encoded data removed]",
      "text/plain": [
       "<Figure size 640x480 with 1 Axes>"
      ]
     },
     "metadata": {},
     "output_type": "display_data"
    }
   ],
   "source": [
    "# visualize missing values\n",
    "import seaborn as sns\n",
    "sns.heatmap(df.isnull(),cbar=False,cmap='viridis')"
   ]
  },
  {
   "cell_type": "code",
   "execution_count": 8,
   "metadata": {},
   "outputs": [
    {
     "data": {
      "text/plain": [
       "YOUTH                      100.000000\n",
       "CEOC                       100.000000\n",
       "GROWM                      100.000000\n",
       "BEOC                       100.000000\n",
       "BLOOD                      100.000000\n",
       "OPD                        100.000000\n",
       "CAES SEC                   100.000000\n",
       "HCT                        100.000000\n",
       "OUTREACH                   100.000000\n",
       "EPI                        100.000000\n",
       "PMTCT                      100.000000\n",
       "RAD/XRAY                   100.000000\n",
       "RHTC/RHDC                  100.000000\n",
       "TB DIAG                    100.000000\n",
       "TB LABS                    100.000000\n",
       "TB TREAT                   100.000000\n",
       "ANC                        100.000000\n",
       "Official Fax                94.859591\n",
       "ART                         91.232746\n",
       "Official Alternate No       90.937649\n",
       "C-IMCI                      88.795812\n",
       "Official Landline           86.987149\n",
       "Official Email              82.322703\n",
       "HBC                         73.365064\n",
       "Official Mobile             72.251309\n",
       "IPD                         62.465493\n",
       "FP                          59.181342\n",
       "Description of Location     49.509757\n",
       "Post Code                   36.411233\n",
       "Official Address            32.917658\n",
       "Job Title of in Charge      29.500238\n",
       "Town                        25.387911\n",
       "In Charge                   20.371252\n",
       "Sub Location                 8.491195\n",
       "Nearest Town                 5.730604\n",
       "Location                     4.712042\n",
       "Open Weekends                4.350309\n",
       "Open 24 Hours                4.255117\n",
       "Division                     2.541647\n",
       "Beds                         0.828177\n",
       "Cots                         0.732984\n",
       "Operational Status           0.000000\n",
       "Facility Name                0.000000\n",
       "Constituency                 0.000000\n",
       "Owner                        0.000000\n",
       "Type                         0.000000\n",
       "District                     0.000000\n",
       "County                       0.000000\n",
       "Province                     0.000000\n",
       "Facility Code                0.000000\n",
       "dtype: float64"
      ]
     },
     "execution_count": 8,
     "metadata": {},
     "output_type": "execute_result"
    }
   ],
   "source": [
    "\"\"\"I need to understand whether this missing values are missing at random or not by looking at the distribution of data on the whole dataset\"\"\"\n",
    "(data.isnull().sum()/len(data) * 100).sort_values(ascending=False)"
   ]
  },
  {
   "cell_type": "code",
   "execution_count": 9,
   "metadata": {},
   "outputs": [
    {
     "name": "stderr",
     "output_type": "stream",
     "text": [
      "C:\\Users\\Admin\\AppData\\Local\\Temp\\ipykernel_18164\\1572387218.py:5: SettingWithCopyWarning: \n",
      "A value is trying to be set on a copy of a slice from a DataFrame\n",
      "\n",
      "See the caveats in the documentation: https://pandas.pydata.org/pandas-docs/stable/user_guide/indexing.html#returning-a-view-versus-a-copy\n",
      "  df.drop(columns=['ANC', 'BEOC',\n"
     ]
    }
   ],
   "source": [
    "\"\"\"From our observation, we have identified columns with 100% of their information missing and others with over 70% missing data.\n",
    "   The best approach for columns with no data at all is to drop them.We will also drop the 'province' and 'county' columns, as they\n",
    "     are not necessary for our analysis.\"\"\"\n",
    "\n",
    "df.drop(columns=['ANC', 'BEOC',\n",
    "       'CAES SEC','EPI', 'GROWM', 'HCT',\n",
    "       'OPD', 'OUTREACH', 'PMTCT', 'RAD/XRAY', 'RHTC/RHDC', 'TB DIAG',\n",
    "       'TB LABS', 'TB TREAT', 'YOUTH','BLOOD','CEOC','Province','County'],inplace = True)"
   ]
  },
  {
   "cell_type": "code",
   "execution_count": 10,
   "metadata": {},
   "outputs": [
    {
     "name": "stdout",
     "output_type": "stream",
     "text": [
      "   C-IMCI  ART  HBC   FP  IPD\n",
      "Y      72  109  250  280  297\n",
      "   C-IMCI  ART   HBC    FP   IPD\n",
      "Y    1177  921  2798  4288  3943\n"
     ]
    }
   ],
   "source": [
    "#look at the distribution of data in the columns with a high number of missing values in both the main dataframe and the filtered dataframe\n",
    "\n",
    "#distribution in the filtered dataframe\n",
    "columns = df[['C-IMCI','ART','HBC','FP','IPD']]\n",
    "\n",
    "value_counts = columns.apply(lambda x:x.value_counts())\n",
    "print(value_counts)\n",
    "\n",
    "#distribution in the main dataframe\n",
    "columns_data = data[['C-IMCI','ART','HBC','FP','IPD']]\n",
    "\n",
    "value_counts_data = columns_data.apply(lambda x:x.value_counts())\n",
    "print(value_counts_data) "
   ]
  },
  {
   "cell_type": "code",
   "execution_count": 11,
   "metadata": {},
   "outputs": [
    {
     "data": {
      "text/plain": [
       "C-IMCI    False\n",
       "ART       False\n",
       "HBC       False\n",
       "FP        False\n",
       "IPD       False\n",
       "dtype: bool"
      ]
     },
     "execution_count": 11,
     "metadata": {},
     "output_type": "execute_result"
    }
   ],
   "source": [
    "\"\"\"From our observation Y, is an indication of the availability of the specified services while N represents their absense.\n",
    "   Y in this case is the only unique value in the specified columns. The null values in the columns would be an indication of\n",
    "  their absence.Therefore ill make an assumption that the values are missing at random and peform logical imputation by replacing \n",
    "  NAN values with N \"\"\"\n",
    "\n",
    "#fill null values\n",
    "column = ['C-IMCI','ART','HBC','FP','IPD']\n",
    "df.loc[:, column] = df.loc[:, column].fillna('N')\n",
    "\n",
    "#assert changes\n",
    "df[['C-IMCI','ART','HBC','FP','IPD']].isna().any()"
   ]
  },
  {
   "cell_type": "code",
   "execution_count": 12,
   "metadata": {},
   "outputs": [
    {
     "data": {
      "text/plain": [
       "False"
      ]
     },
     "execution_count": 12,
     "metadata": {},
     "output_type": "execute_result"
    }
   ],
   "source": [
    "\"\"\"no duplicated values\"\"\"\n",
    "#check for duplicate values\n",
    "df.duplicated().any() \n"
   ]
  },
  {
   "cell_type": "code",
   "execution_count": 13,
   "metadata": {},
   "outputs": [
    {
     "data": {
      "text/plain": [
       "(Open 24 Hours    11\n",
       " Open Weekends     9\n",
       " dtype: int64,\n",
       " array(['Y', 'N', nan], dtype=object),\n",
       " array(['N', 'Y', nan], dtype=object))"
      ]
     },
     "execution_count": 13,
     "metadata": {},
     "output_type": "execute_result"
    }
   ],
   "source": [
    "#closer look at other columns with missing values\n",
    "col =df[['Open 24 Hours','Open Weekends']]\n",
    "\n",
    "#unique values for open 24 hours column\n",
    "hrs= df['Open 24 Hours'].unique()\n",
    "\n",
    "#unique values for open weekends column\n",
    "wkds=df['Open Weekends'].unique()\n",
    "\n",
    "#count of unique values\n",
    "counts= col.apply(lambda x:x.isna().sum())\n",
    "counts,wkds,hrs"
   ]
  },
  {
   "cell_type": "code",
   "execution_count": 14,
   "metadata": {},
   "outputs": [
    {
     "data": {
      "text/plain": [
       "Open Weekends    False\n",
       "Open 24 Hours    False\n",
       "dtype: bool"
      ]
     },
     "execution_count": 14,
     "metadata": {},
     "output_type": "execute_result"
    }
   ],
   "source": [
    "\"\"\"The observation indicates that the unique values in this particular columns are either N,Y or NaN.We will make an assumption that\n",
    " the null values on this column indicate the absence of this services. Therefore we will make use of logical imputation and replace \n",
    " all the null values with N\"\"\"\n",
    "\n",
    "cols = ['Open 24 Hours','Open Weekends']\n",
    "\n",
    "#fill null values\n",
    "df.loc[:, cols] = df.loc[:,cols].fillna('N')\n",
    "\n",
    "#assert there are no more null values\n",
    "df[['Open Weekends','Open 24 Hours']].isna().any()"
   ]
  },
  {
   "cell_type": "code",
   "execution_count": 15,
   "metadata": {},
   "outputs": [
    {
     "name": "stderr",
     "output_type": "stream",
     "text": [
      "C:\\Users\\Admin\\AppData\\Local\\Temp\\ipykernel_18164\\2641818463.py:4: SettingWithCopyWarning: \n",
      "A value is trying to be set on a copy of a slice from a DataFrame\n",
      "\n",
      "See the caveats in the documentation: https://pandas.pydata.org/pandas-docs/stable/user_guide/indexing.html#returning-a-view-versus-a-copy\n",
      "  df.drop(columns=['Official Alternate No','Official Landline','Official Email','Official Alternate No',\n"
     ]
    }
   ],
   "source": [
    "#drop this columns as i shall not be needing them in my analysis. \n",
    "#dropping the sub location column as i can make use of the division column instead\n",
    "\n",
    "df.drop(columns=['Official Alternate No','Official Landline','Official Email','Official Alternate No',\n",
    "'Official Mobile','Official Address','Official Fax','Post Code','Description of Location','Town',\n",
    "'Nearest Town','District','Sub Location'],inplace=True)"
   ]
  },
  {
   "cell_type": "code",
   "execution_count": 18,
   "metadata": {},
   "outputs": [],
   "source": [
    "import warnings\n",
    "warnings.filterwarnings('ignore')\n",
    "\n",
    "#drop all the null values as only a small % of data is null\n",
    "df.dropna(subset=['Location', 'Division'], inplace=True)\n"
   ]
  },
  {
   "cell_type": "code",
   "execution_count": 19,
   "metadata": {},
   "outputs": [
    {
     "data": {
      "text/html": [
       "<div>\n",
       "<style scoped>\n",
       "    .dataframe tbody tr th:only-of-type {\n",
       "        vertical-align: middle;\n",
       "    }\n",
       "\n",
       "    .dataframe tbody tr th {\n",
       "        vertical-align: top;\n",
       "    }\n",
       "\n",
       "    .dataframe thead th {\n",
       "        text-align: right;\n",
       "    }\n",
       "</style>\n",
       "<table border=\"1\" class=\"dataframe\">\n",
       "  <thead>\n",
       "    <tr style=\"text-align: right;\">\n",
       "      <th></th>\n",
       "      <th>Job Title of in Charge</th>\n",
       "      <th>In Charge</th>\n",
       "    </tr>\n",
       "  </thead>\n",
       "  <tbody>\n",
       "    <tr>\n",
       "      <th>0</th>\n",
       "      <td>Clinical Officer</td>\n",
       "      <td>Caroline Achieng</td>\n",
       "    </tr>\n",
       "    <tr>\n",
       "      <th>1</th>\n",
       "      <td>Nursing Officer in Charge</td>\n",
       "      <td>Captain Murunga</td>\n",
       "    </tr>\n",
       "    <tr>\n",
       "      <th>2</th>\n",
       "      <td>Medical Superintendant</td>\n",
       "      <td>Dr Mbuthia Wacera</td>\n",
       "    </tr>\n",
       "    <tr>\n",
       "      <th>3</th>\n",
       "      <td>Doctor In Charge</td>\n",
       "      <td>Dr. Alma Okudo</td>\n",
       "    </tr>\n",
       "    <tr>\n",
       "      <th>4</th>\n",
       "      <td>Nursing Officer in Charge</td>\n",
       "      <td>None</td>\n",
       "    </tr>\n",
       "    <tr>\n",
       "      <th>5</th>\n",
       "      <td>Hospital Director</td>\n",
       "      <td>Dr Kamau David</td>\n",
       "    </tr>\n",
       "    <tr>\n",
       "      <th>6</th>\n",
       "      <td>Nursing Officer in Charge</td>\n",
       "      <td>Eunice Kamau</td>\n",
       "    </tr>\n",
       "    <tr>\n",
       "      <th>7</th>\n",
       "      <td>None</td>\n",
       "      <td>None</td>\n",
       "    </tr>\n",
       "    <tr>\n",
       "      <th>8</th>\n",
       "      <td>Nursing Officer in Charge</td>\n",
       "      <td>Stephanie Mutunga</td>\n",
       "    </tr>\n",
       "    <tr>\n",
       "      <th>9</th>\n",
       "      <td>Nursing Officer in Charge</td>\n",
       "      <td>Sarah Orinda</td>\n",
       "    </tr>\n",
       "  </tbody>\n",
       "</table>\n",
       "</div>"
      ],
      "text/plain": [
       "      Job Title of in Charge          In Charge\n",
       "0           Clinical Officer   Caroline Achieng\n",
       "1  Nursing Officer in Charge    Captain Murunga\n",
       "2     Medical Superintendant  Dr Mbuthia Wacera\n",
       "3           Doctor In Charge     Dr. Alma Okudo\n",
       "4  Nursing Officer in Charge               None\n",
       "5          Hospital Director     Dr Kamau David\n",
       "6  Nursing Officer in Charge       Eunice Kamau\n",
       "7                       None               None\n",
       "8  Nursing Officer in Charge  Stephanie Mutunga\n",
       "9  Nursing Officer in Charge       Sarah Orinda"
      ]
     },
     "execution_count": 19,
     "metadata": {},
     "output_type": "execute_result"
    }
   ],
   "source": [
    "#have a closer look at the in charge and job title column\n",
    "\n",
    "from pandasql import sqldf\n",
    "q1 = \"\"\"SELECT [Job Title of in Charge],[In Charge] FROM df\n",
    "        LIMIT 10\"\"\"\n",
    "pysqldf  = sqldf(q1)\n",
    "results = pysqldf\n",
    "results"
   ]
  },
  {
   "cell_type": "code",
   "execution_count": 20,
   "metadata": {},
   "outputs": [],
   "source": [
    "\"\"\"The information contained in these two columns is highly specific and cannot be reliably imputed without additional context. Ill only need the\n",
    "Job Title In Charge Column for my analysis, therefore ill drop the in charge column and ignore the missing values in the job title column\"\"\"\n",
    "#drop columns\n",
    "df.drop(columns = 'In Charge',inplace = True)"
   ]
  },
  {
   "cell_type": "code",
   "execution_count": 21,
   "metadata": {},
   "outputs": [],
   "source": [
    "#remove trailing spaces for all the rows\n",
    "df = df.apply(lambda x: x.str.strip() if x.dtype == 'object' else x)\n",
    "\n",
    "# convert all the rows to lowercase\n",
    "df = df.apply(lambda x: x.str.lower() if x.dtype == 'object' else x)"
   ]
  },
  {
   "cell_type": "code",
   "execution_count": 22,
   "metadata": {},
   "outputs": [
    {
     "data": {
      "text/plain": [
       "array(['huruma', 'mugumoini', 'woodly', 'central business district',\n",
       "       'parklands', 'embakasi', \"lang'ata\", 'kasarani', 'roysambu',\n",
       "       'upper savanna', 'pumwani', 'kangemi', 'githurai', 'central',\n",
       "       'viwandani', 'ruaraka', 'kawangware', 'eastleigh north',\n",
       "       'githunguri', 'kibera', 'bahati', 'kayole', 'kariokor', 'kilimani',\n",
       "       'nairobi west', 'karen', 'pipeline', 'makadara', 'mukuru nyayo',\n",
       "       'korogocho', 'njiru', 'community', 'dandora', 'kibra', 'landmawe',\n",
       "       'eastleigh section i', 'uthiru/ruthimitu', 'ngando', 'city cenre',\n",
       "       'ngara', 'kahawa west', 'nairobi south', 'mutuini',\n",
       "       'jericho- lumumba', 'kwa njenga', 'woodley', 'golfcourse',\n",
       "       'mathare', 'landi mawe', 'kiambiu', 'lumumba', 'lavington',\n",
       "       'utawala', 'makina', 'pangani', 'maringo', 'langata',\n",
       "       'wanyee road', 'l/kabete', 'ramesh gautama road', 'riruta',\n",
       "       'kariobangi', 'umoja', 'laini saba', \"sarang'ombe\", 'makogeni',\n",
       "       'kariobangi south', 'mukuru', 'satelite', 'makongeni',\n",
       "       'city square', 'parlands', 'girigiri', 'savannah', 'westlands',\n",
       "       \"kang'ora\", 'kahawa', 'city centre', 'harambee', 'runda',\n",
       "       'eastleigh section 111', 'eastleigh', 'lindi', 'kitusuru',\n",
       "       'muthaiga', 'kawagware', 'kitisuru', 'ruai', 'kileleshwa',\n",
       "       'kikuyu', 'jericho-lumumba', 'lower kabete', 'riruta setlite',\n",
       "       'riverside', 'olympic', 'keyole', 'hamza', 'waithaka', 'githogoro',\n",
       "       'komarock', 'eastleigh section iii', 'tassia', 'jerusalem',\n",
       "       'highridge', 'knh', 'starehe', 'hazina', 'kenyatta',\n",
       "       'eastleigh south', 'savanna', 'mukuru kwanjenga', 'muthurwa',\n",
       "       'ruarak', 'umoja ii', 'mukuru kwanjega', 'pumwani majengo',\n",
       "       'imara daima', \"mihan'go\", 'dandora phase ii', 'shauri moyo',\n",
       "       'kamukunji', 'hamsa', 'kingeero', 'uthiru', 'kayole north',\n",
       "       'ngara east', 'ruthimitu', 'jericho lumumba', 'khn', 'gthurai'],\n",
       "      dtype=object)"
      ]
     },
     "execution_count": 22,
     "metadata": {},
     "output_type": "execute_result"
    }
   ],
   "source": [
    "# closer look at the location column\n",
    "df['Location'].unique()"
   ]
  },
  {
   "cell_type": "code",
   "execution_count": 23,
   "metadata": {},
   "outputs": [
    {
     "data": {
      "text/plain": [
       "130"
      ]
     },
     "execution_count": 23,
     "metadata": {},
     "output_type": "execute_result"
    }
   ],
   "source": [
    "#count of unique values\n",
    "len(df['Location'].unique())"
   ]
  },
  {
   "cell_type": "code",
   "execution_count": 24,
   "metadata": {},
   "outputs": [],
   "source": [
    "# rectifying the spelling errors on the location column\n",
    "\n",
    "#correctly spell gthurai\n",
    "df['Location'] = df['Location'].replace('gthurai','githurai')\n",
    "\n",
    "#correctly spell makogeni\n",
    "df['Location'] = df['Location'].replace('makogeni','makongeni')\n",
    "\n",
    "#remove the dash in 'jericho- lumumba'\n",
    "df['Location'] = df['Location'].replace('jericho-lumumba','jericho lumumba')\n",
    "df['Location'] = df['Location'].replace('jericho- lumumba','jericho lumumba')\n",
    "\n",
    "#correctly spell landmawe\n",
    "df['Location'] = df['Location'].replace('landmawe' ,'landi mawe')\n",
    "\n",
    "#remove the spacing in ' dandora '\n",
    "df['Location'] = df['Location'].replace(' dandora ' , 'dandora')\n",
    "\n",
    "#correctly spell city cenre and centre\n",
    "df['Location']=df['Location'].replace('city cenre','city center')\n",
    "df['Location'] = df['Location'].replace('city centre','city center')\n",
    "\n",
    "# correctly spell 'parlands' parklands\n",
    "df['Location'] = df['Location'].replace('parlands','parklands')\n",
    "\n",
    "# correctly spell kitusuru\n",
    "df['Location'] = df['Location'].replace('kitusuru','kitisuru')\n",
    "\n",
    "#correctly spell rurak\n",
    "df['Location'] = df['Location'].replace('ruarak','ruaraka')\n",
    "\n",
    "# correctly spell khn\n",
    "df['Location'] = df['Location'].replace('khn','knh')\n",
    "\n",
    "# correctly spell mukuru kwanjega\n",
    "df['Location'] = df['Location'].replace('mukuru kwanjega','mukuru kwanjenga')\n",
    "\n",
    "#correctly spell 'kawagware'\n",
    "df['Location'] = df['Location'].replace('kawagware','kawangware')\n",
    "\n",
    "#correctly spell keyole\n",
    "df['Location'] = df['Location'].replace('keyole','kayole')\n",
    "\n",
    "#correctly spell kibera\n",
    "df['Location']=df['Location'].replace('kibera','kibra')\n",
    "\n",
    "# rewrite woodly\n",
    "df['Location'] = df['Location'].replace('woodly','woodley')\n",
    "\n",
    "# rewrite savanna\n",
    "df['Location'] = df['Location'].replace('savanna','savannah')\n",
    "\n",
    "#rewrite eastleigh section 111\n",
    "df['Location'] = df['Location'].replace('eastleigh section 111','eastleigh section iii')"
   ]
  },
  {
   "cell_type": "code",
   "execution_count": 25,
   "metadata": {},
   "outputs": [
    {
     "data": {
      "text/plain": [
       "113"
      ]
     },
     "execution_count": 25,
     "metadata": {},
     "output_type": "execute_result"
    }
   ],
   "source": [
    "#assert changes. Initially there were 130 unique values\n",
    "len(df['Location'].unique())"
   ]
  },
  {
   "cell_type": "code",
   "execution_count": 26,
   "metadata": {},
   "outputs": [
    {
     "data": {
      "text/plain": [
       "array(['huruma', \"lang'ata\", 'woodly', 'starehe', 'parklands', 'embakasi',\n",
       "       'kasarani', 'roysambu', 'embakasi east', 'pumwani', 'kangemi',\n",
       "       'central', 'viwandani', 'kawangware', 'eastleigh north', 'ruai',\n",
       "       'kibra', 'dagoretti', 'bahati', 'kariokor', 'kilimani', 'ruaraka',\n",
       "       'mukuru', 'makadara', 'south b', 'kayole', 'njiru',\n",
       "       'knh golf course', 'dandora', 'city centre', 'ngara',\n",
       "       'eastleigh south', 'kileleshwa', 'riruta', 'kitisuru', 'langata',\n",
       "       'kariobangi', \"lan'gata\", 'kariobangi south', 'dagoretti south',\n",
       "       'savannah', 'nairobi south', 'westlands', 'karura',\n",
       "       'eastleign south', 'dagoretti north', 'kibera', 'kitusuru',\n",
       "       'kawagware', 'umoja', 'city square', 'woodley', 'kitsuru',\n",
       "       'golf course', 'kasrani', 'mathare', 'waithaka', 'highridge',\n",
       "       'knh/golf course', 'kamukunji', 'kenyatta', \"sarang'ombe\",\n",
       "       'mutuini', 'embakasi kayole', 'rotysambu', 'embakasi west',\n",
       "       'mukurui', 'lower kabete', 'mountain view', 'knh'], dtype=object)"
      ]
     },
     "execution_count": 26,
     "metadata": {},
     "output_type": "execute_result"
    }
   ],
   "source": [
    "#have a closer look at the division column\n",
    "df['Division'].unique()"
   ]
  },
  {
   "cell_type": "code",
   "execution_count": 27,
   "metadata": {},
   "outputs": [
    {
     "data": {
      "text/plain": [
       "70"
      ]
     },
     "execution_count": 27,
     "metadata": {},
     "output_type": "execute_result"
    }
   ],
   "source": [
    "# initial number of unique values\n",
    "len(df['Division'].unique())"
   ]
  },
  {
   "cell_type": "code",
   "execution_count": 28,
   "metadata": {},
   "outputs": [],
   "source": [
    "#rectify spelling mistakes on the division column\n",
    "\n",
    "#correctly spell woodly\n",
    "df['Division'] = df['Division'].replace('woodly','woodley')\n",
    "\n",
    "#correctly spell lan'gata\n",
    "df['Division'] = df['Division'].replace(\"lan'gata\",\"lang'ata\")\n",
    "\n",
    "#correctly spell kitsuru and kitusuru\n",
    "df['Division'] = df['Division'].replace(['kitsuru','kitusuru'],'kitisuru')\n",
    "\n",
    "#correctly spell kibera\n",
    "df['Division'] = df['Division'].replace('kibera','kibra')\n",
    "\n",
    "#remove foward slash\n",
    "df['Division'] = df['Division'].replace('knh/golf course','knh golf course')\n",
    "\n",
    "#correctly spell kawagware\n",
    "df['Division'] = df['Division'].replace('kawagware','kawangware')\n",
    "\n",
    "#correctly spell roytsambu\n",
    "df['Division'] = df['Division'].replace('rotysambu','roysambu')\n"
   ]
  },
  {
   "cell_type": "code",
   "execution_count": 29,
   "metadata": {},
   "outputs": [
    {
     "data": {
      "text/plain": [
       "62"
      ]
     },
     "execution_count": 29,
     "metadata": {},
     "output_type": "execute_result"
    }
   ],
   "source": [
    "#assert changes\n",
    "len(df['Division'].unique())"
   ]
  },
  {
   "cell_type": "code",
   "execution_count": 31,
   "metadata": {},
   "outputs": [],
   "source": [
    "# change float dtypes to int\n",
    "df[['Beds','Cots']]=df[['Beds','Cots']].astype(int)"
   ]
  },
  {
   "cell_type": "code",
   "execution_count": 32,
   "metadata": {},
   "outputs": [],
   "source": [
    "df=pd.read_csv('nairobi_data.csv')"
   ]
  },
  {
   "cell_type": "code",
   "execution_count": 33,
   "metadata": {},
   "outputs": [
    {
     "data": {
      "text/html": [
       "<div>\n",
       "<style scoped>\n",
       "    .dataframe tbody tr th:only-of-type {\n",
       "        vertical-align: middle;\n",
       "    }\n",
       "\n",
       "    .dataframe tbody tr th {\n",
       "        vertical-align: top;\n",
       "    }\n",
       "\n",
       "    .dataframe thead th {\n",
       "        text-align: right;\n",
       "    }\n",
       "</style>\n",
       "<table border=\"1\" class=\"dataframe\">\n",
       "  <thead>\n",
       "    <tr style=\"text-align: right;\">\n",
       "      <th></th>\n",
       "      <th>Facility Code</th>\n",
       "      <th>Facility Name</th>\n",
       "      <th>Division</th>\n",
       "      <th>Type</th>\n",
       "      <th>Owner</th>\n",
       "      <th>Location</th>\n",
       "      <th>Constituency</th>\n",
       "      <th>Beds</th>\n",
       "      <th>Cots</th>\n",
       "      <th>Job Title of in Charge</th>\n",
       "      <th>Open 24 Hours</th>\n",
       "      <th>Open Weekends</th>\n",
       "      <th>Operational Status</th>\n",
       "      <th>ART</th>\n",
       "      <th>C-IMCI</th>\n",
       "      <th>FP</th>\n",
       "      <th>HBC</th>\n",
       "      <th>IPD</th>\n",
       "    </tr>\n",
       "  </thead>\n",
       "  <tbody>\n",
       "    <tr>\n",
       "      <th>0</th>\n",
       "      <td>19310</td>\n",
       "      <td>st jude's huruma community health services</td>\n",
       "      <td>huruma</td>\n",
       "      <td>medical clinic</td>\n",
       "      <td>private practice - unspecified</td>\n",
       "      <td>huruma</td>\n",
       "      <td>mathare</td>\n",
       "      <td>0</td>\n",
       "      <td>0</td>\n",
       "      <td>clinical officer</td>\n",
       "      <td>n</td>\n",
       "      <td>y</td>\n",
       "      <td>operational</td>\n",
       "      <td>n</td>\n",
       "      <td>n</td>\n",
       "      <td>n</td>\n",
       "      <td>n</td>\n",
       "      <td>n</td>\n",
       "    </tr>\n",
       "    <tr>\n",
       "      <th>1</th>\n",
       "      <td>13043</td>\n",
       "      <td>7kr mrs health centre</td>\n",
       "      <td>lang'ata</td>\n",
       "      <td>health centre</td>\n",
       "      <td>armed forces</td>\n",
       "      <td>mugumoini</td>\n",
       "      <td>lang'ata</td>\n",
       "      <td>14</td>\n",
       "      <td>0</td>\n",
       "      <td>nursing officer in charge</td>\n",
       "      <td>y</td>\n",
       "      <td>y</td>\n",
       "      <td>operational</td>\n",
       "      <td>n</td>\n",
       "      <td>y</td>\n",
       "      <td>y</td>\n",
       "      <td>y</td>\n",
       "      <td>y</td>\n",
       "    </tr>\n",
       "    <tr>\n",
       "      <th>2</th>\n",
       "      <td>20346</td>\n",
       "      <td>aar adams health centre</td>\n",
       "      <td>woodley</td>\n",
       "      <td>medical clinic</td>\n",
       "      <td>private practice - general practitioner</td>\n",
       "      <td>woodley</td>\n",
       "      <td>kibra</td>\n",
       "      <td>0</td>\n",
       "      <td>0</td>\n",
       "      <td>medical superintendant</td>\n",
       "      <td>n</td>\n",
       "      <td>y</td>\n",
       "      <td>operational</td>\n",
       "      <td>n</td>\n",
       "      <td>n</td>\n",
       "      <td>n</td>\n",
       "      <td>n</td>\n",
       "      <td>n</td>\n",
       "    </tr>\n",
       "    <tr>\n",
       "      <th>3</th>\n",
       "      <td>12861</td>\n",
       "      <td>aar city centre clinic</td>\n",
       "      <td>starehe</td>\n",
       "      <td>medical clinic</td>\n",
       "      <td>private enterprise (institution)</td>\n",
       "      <td>central business district</td>\n",
       "      <td>starehe</td>\n",
       "      <td>0</td>\n",
       "      <td>0</td>\n",
       "      <td>doctor in charge</td>\n",
       "      <td>n</td>\n",
       "      <td>y</td>\n",
       "      <td>operational</td>\n",
       "      <td>n</td>\n",
       "      <td>n</td>\n",
       "      <td>y</td>\n",
       "      <td>n</td>\n",
       "      <td>y</td>\n",
       "    </tr>\n",
       "    <tr>\n",
       "      <th>4</th>\n",
       "      <td>16796</td>\n",
       "      <td>aar clinic sarit centre (westlands)</td>\n",
       "      <td>parklands</td>\n",
       "      <td>medical clinic</td>\n",
       "      <td>private enterprise (institution)</td>\n",
       "      <td>parklands</td>\n",
       "      <td>westlands</td>\n",
       "      <td>0</td>\n",
       "      <td>0</td>\n",
       "      <td>nursing officer in charge</td>\n",
       "      <td>n</td>\n",
       "      <td>n</td>\n",
       "      <td>operational</td>\n",
       "      <td>n</td>\n",
       "      <td>n</td>\n",
       "      <td>n</td>\n",
       "      <td>n</td>\n",
       "      <td>n</td>\n",
       "    </tr>\n",
       "  </tbody>\n",
       "</table>\n",
       "</div>"
      ],
      "text/plain": [
       "   Facility Code                               Facility Name   Division  \\\n",
       "0          19310  st jude's huruma community health services     huruma   \n",
       "1          13043                       7kr mrs health centre   lang'ata   \n",
       "2          20346                     aar adams health centre    woodley   \n",
       "3          12861                      aar city centre clinic    starehe   \n",
       "4          16796         aar clinic sarit centre (westlands)  parklands   \n",
       "\n",
       "             Type                                    Owner  \\\n",
       "0  medical clinic           private practice - unspecified   \n",
       "1   health centre                             armed forces   \n",
       "2  medical clinic  private practice - general practitioner   \n",
       "3  medical clinic         private enterprise (institution)   \n",
       "4  medical clinic         private enterprise (institution)   \n",
       "\n",
       "                    Location Constituency  Beds  Cots  \\\n",
       "0                     huruma      mathare     0     0   \n",
       "1                  mugumoini     lang'ata    14     0   \n",
       "2                    woodley        kibra     0     0   \n",
       "3  central business district      starehe     0     0   \n",
       "4                  parklands    westlands     0     0   \n",
       "\n",
       "      Job Title of in Charge Open 24 Hours Open Weekends Operational Status  \\\n",
       "0           clinical officer             n             y        operational   \n",
       "1  nursing officer in charge             y             y        operational   \n",
       "2     medical superintendant             n             y        operational   \n",
       "3           doctor in charge             n             y        operational   \n",
       "4  nursing officer in charge             n             n        operational   \n",
       "\n",
       "  ART C-IMCI FP HBC IPD  \n",
       "0   n      n  n   n   n  \n",
       "1   n      y  y   y   y  \n",
       "2   n      n  n   n   n  \n",
       "3   n      n  y   n   y  \n",
       "4   n      n  n   n   n  "
      ]
     },
     "execution_count": 33,
     "metadata": {},
     "output_type": "execute_result"
    }
   ],
   "source": [
    "df.head(5)"
   ]
  },
  {
   "cell_type": "code",
   "execution_count": 34,
   "metadata": {},
   "outputs": [
    {
     "name": "stdout",
     "output_type": "stream",
     "text": [
      "<class 'pandas.core.frame.DataFrame'>\n",
      "RangeIndex: 889 entries, 0 to 888\n",
      "Data columns (total 18 columns):\n",
      " #   Column                  Non-Null Count  Dtype \n",
      "---  ------                  --------------  ----- \n",
      " 0   Facility Code           889 non-null    int64 \n",
      " 1   Facility Name           889 non-null    object\n",
      " 2   Division                889 non-null    object\n",
      " 3   Type                    889 non-null    object\n",
      " 4   Owner                   889 non-null    object\n",
      " 5   Location                889 non-null    object\n",
      " 6   Constituency            889 non-null    object\n",
      " 7   Beds                    889 non-null    int64 \n",
      " 8   Cots                    889 non-null    int64 \n",
      " 9   Job Title of in Charge  529 non-null    object\n",
      " 10  Open 24 Hours           889 non-null    object\n",
      " 11  Open Weekends           889 non-null    object\n",
      " 12  Operational Status      889 non-null    object\n",
      " 13  ART                     889 non-null    object\n",
      " 14  C-IMCI                  889 non-null    object\n",
      " 15  FP                      889 non-null    object\n",
      " 16  HBC                     889 non-null    object\n",
      " 17  IPD                     889 non-null    object\n",
      "dtypes: int64(3), object(15)\n",
      "memory usage: 125.1+ KB\n"
     ]
    }
   ],
   "source": [
    "df.info()"
   ]
  },
  {
   "cell_type": "markdown",
   "metadata": {},
   "source": [
    "### Convert our csv into a database"
   ]
  },
  {
   "cell_type": "code",
   "execution_count": 5,
   "metadata": {},
   "outputs": [],
   "source": [
    "import sqlite3"
   ]
  },
  {
   "cell_type": "code",
   "execution_count": 6,
   "metadata": {},
   "outputs": [],
   "source": [
    "conn =sqlite3.connect(\"health_data.db\")\n",
    "cursor = conn.cursor()"
   ]
  },
  {
   "cell_type": "code",
   "execution_count": 7,
   "metadata": {},
   "outputs": [
    {
     "data": {
      "text/plain": [
       "Index(['Facility Code', 'Facility Name', 'Division', 'Type', 'Owner',\n",
       "       'Location', 'Constituency', 'Beds', 'Cots', 'Job Title of in Charge',\n",
       "       'Open 24 Hours', 'Open Weekends', 'Operational Status', 'ART', 'C-IMCI',\n",
       "       'FP', 'HBC', 'IPD'],\n",
       "      dtype='object')"
      ]
     },
     "execution_count": 7,
     "metadata": {},
     "output_type": "execute_result"
    }
   ],
   "source": [
    "df.columns"
   ]
  },
  {
   "cell_type": "code",
   "execution_count": 12,
   "metadata": {},
   "outputs": [
    {
     "data": {
      "text/plain": [
       "<sqlite3.Cursor at 0x1b46fc07ec0>"
      ]
     },
     "execution_count": 12,
     "metadata": {},
     "output_type": "execute_result"
    }
   ],
   "source": [
    "drop_table_sql = 'DROP TABLE IF EXISTS health_info;'\n",
    "cursor.execute(drop_table_sql)"
   ]
  },
  {
   "cell_type": "code",
   "execution_count": 13,
   "metadata": {},
   "outputs": [],
   "source": [
    "query1 = \"\"\"CREATE TABLE health_info(\n",
    "    facility_code INT PRIMARY KEY,\n",
    "    facility_name TEXT,\n",
    "    division TEXT,\n",
    "    type TEXT,\n",
    "    owner TEXT,\n",
    "    location TEXT,\n",
    "    Beds FLOAT,\n",
    "    cots FLOAT,\n",
    "    job_title_in_charge TEXT,\n",
    "    open_24_hrs TEXT,\n",
    "    open_weekends, TEXT,\n",
    "    operational_status TEXT,\n",
    "    art TEXT,\n",
    "    cimci TEXT,\n",
    "    fp TEXT,\n",
    "    hbc TEXT,\n",
    "    ipd TEXT )\"\"\"\n",
    "cursor.execute(query1)\n",
    "conn.commit()"
   ]
  },
  {
   "cell_type": "code",
   "execution_count": 14,
   "metadata": {},
   "outputs": [
    {
     "data": {
      "text/plain": [
       "889"
      ]
     },
     "execution_count": 14,
     "metadata": {},
     "output_type": "execute_result"
    }
   ],
   "source": [
    "df.to_sql('health_info',conn,if_exists='replace',index=False)"
   ]
  },
  {
   "cell_type": "code",
   "execution_count": 15,
   "metadata": {},
   "outputs": [],
   "source": [
    "file = 'health_info.sql'\n",
    "with open(file,'w') as f:\n",
    "    for line in conn.iterdump():\n",
    "        f.write('%s\\n' % line)       \n"
   ]
  },
  {
   "cell_type": "code",
   "execution_count": 17,
   "metadata": {},
   "outputs": [
    {
     "name": "stdout",
     "output_type": "stream",
     "text": [
      "SQL dump saved to health_info.sql\n"
     ]
    }
   ],
   "source": [
    "print(f'SQL dump saved to {file}')"
   ]
  },
  {
   "cell_type": "code",
   "execution_count": 20,
   "metadata": {},
   "outputs": [
    {
     "name": "stdout",
     "output_type": "stream",
     "text": [
      "Modified SQL dump saved to 'health_info.sql'\n"
     ]
    }
   ],
   "source": [
    "with open('health_info.sql', 'r') as file:\n",
    "    sql_dump = file.read()\n",
    "\n",
    "# Replace double quotes with backticks (or remove them)\n",
    "mysql_dump = sql_dump.replace('\"', '`')\n",
    "\n",
    "# Save the modified SQL dump\n",
    "with open('health_info.sql', 'w') as file:\n",
    "    file.write(mysql_dump)\n",
    "\n",
    "print(\"Modified SQL dump saved to 'health_info.sql'\")\n"
   ]
  }
 ],
 "metadata": {
  "kernelspec": {
   "display_name": "base",
   "language": "python",
   "name": "python3"
  },
  "language_info": {
   "codemirror_mode": {
    "name": "ipython",
    "version": 3
   },
   "file_extension": ".py",
   "mimetype": "text/x-python",
   "name": "python",
   "nbconvert_exporter": "python",
   "pygments_lexer": "ipython3",
   "version": "3.11.7"
  }
 },
 "nbformat": 4,
 "nbformat_minor": 2
}
